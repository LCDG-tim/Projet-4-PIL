{
 "cells": [
  {
   "cell_type": "markdown",
   "metadata": {},
   "source": [
    "\n",
    "exercice 1:\n",
    "\n",
    "1. définition d'une image\n",
    "\n",
    "Une image numérique est une image acquise, crée, traitée en binaire.\n",
    "\n",
    "2. définition d'une résolution\n",
    "\n",
    "La Résolution d'une image est le nombre de pixels contenus dans l'image par\n",
    "unité de longueur (en pixels par pouce: ppp ou dot per inch: dpi).\n",
    "\n",
    "3. définition de la profondeur de couleur\n",
    "\n",
    "la profondeur de couleur est le nombre de bits utilisés pour représenter la\n",
    "couleur d'un pixeldans une image."
   ]
  },
  {
   "cell_type": "markdown",
   "metadata": {},
   "source": [
    "exercice 2:\n",
    "\n",
    "taille de l'image:\n",
    "5000 px * 6000 px\n",
    "\n",
    "format de l'image imprimée :\n",
    "19.8 cm * 29.7 cm\n",
    "\n",
    "résolution de l'image en pixel par centimètre :\n",
    "5_000 px / 19.8 cm = 252 px * cm^-1\n",
    "\n",
    "résoluton de l'image en pixels par pouce :\n",
    "1' = 2,54 cm\n",
    "\n",
    "longueur de la photo en pouce : 19.8 cm * 1' / 2.54 cm = 7.8'\n",
    "5_000 px / 7.8' = 641 ppp"
   ]
  },
  {
   "cell_type": "markdown",
   "metadata": {},
   "source": [
    "exercice 3:\n",
    "\n",
    "taille du papier de l'impression :\n",
    "10 cm * 15 cm\n",
    "\n",
    "résolution minimale :\n",
    "300 ppp\n",
    "\n",
    "longueur en pouce du papier :\n",
    "10 cm * 1' / 2.54 cm = 3.9'\n",
    "\n",
    "nombre de pixels minimum dans la longueur :\n",
    "unité : px * pouce^-1 * pouce = px\n",
    "\n",
    "300 ppp * 3.9' = 1181 px\n",
    "\n",
    "de même pour la hauteur:\n",
    "\n",
    "hauteur en pouce:\n",
    "15 cm * 1' / 2.54 cm = 5.9'\n",
    "\n",
    "nombre de pixel en hauteur:\n",
    "300 ppp * 5.9' = 1770 px\n",
    "\n",
    "la photo devra avoir une taille minimum de 1181 px * 1770 px."
   ]
  },
  {
   "cell_type": "markdown",
   "metadata": {},
   "source": [
    "exercice 4:\n",
    "Déterminer un programme qui calcule la définition d’une image"
   ]
  },
  {
   "cell_type": "code",
   "execution_count": null,
   "metadata": {},
   "outputs": [],
   "source": [
    "from PIL import Image,ImageDraw, ImageOps\n",
    "from IPython.display import display\n",
    "\n",
    "\n",
    "def definition_image(img):\n",
    "    \"\"\"fonction qui retourne le format de l'image dans un tuple\n",
    "    ----\n",
    "    :post:\n",
    "        - img.size est un tuple\n",
    "    \"\"\"\n",
    "    assert isinstance(img.size, tuple), \"img.size must be a tuple not a {}\".format(type(img.size))\n",
    "    return img.size\n",
    "\n",
    "\n",
    "# ouverture de l'image dans python\n",
    "img1 = Image.open(\"images/13-photo.jpg\")\n",
    "\n",
    "# affichage de l'image pour l'utilisateur\n",
    "display(img1)\n",
    "\n",
    "# affichage de la définition de l'image\n",
    "print(definition_image(img1))"
   ]
  },
  {
   "cell_type": "markdown",
   "metadata": {},
   "source": [
    "exercice 5: Imaginer des algorithmes que vous mettrez en application sur Python avec l’image de votre choix qui permettront de réaliser les deux transformations ci-dessus (verticale et horizontal)."
   ]
  },
  {
   "cell_type": "code",
   "execution_count": null,
   "metadata": {},
   "outputs": [],
   "source": [
    "def symetrie_vertical(img):\n",
    "PIL.ImageOps.miror(img) # renvoie l'image avec la gauche à droite et la\n",
    "# droite à gauche\n",
    "PIL.ImageOps.flip(img) # revoie l'image retourner"
   ]
  }
 ],
 "metadata": {
  "kernelspec": {
   "display_name": "Python 3",
   "language": "python",
   "name": "python3"
  },
  "language_info": {
   "codemirror_mode": {
    "name": "ipython",
    "version": 3
   },
   "file_extension": ".py",
   "mimetype": "text/x-python",
   "name": "python",
   "nbconvert_exporter": "python",
   "pygments_lexer": "ipython3",
   "version": "3.7.7"
  }
 },
 "nbformat": 4,
 "nbformat_minor": 4
}
